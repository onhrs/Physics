{
 "cells": [
  {
   "cell_type": "markdown",
   "metadata": {},
   "source": [
    "# 直感で理解する量子コンピュータ\n",
    "https://qiita.com/onhrs/items/9bf83c61fcfcff43011f"
   ]
  },
  {
   "cell_type": "code",
   "execution_count": 1,
   "metadata": {},
   "outputs": [],
   "source": [
    "#素因数分解したい数 : y\n",
    "# 低い値で任意の値 : x\n",
    "\n",
    "y = 15\n",
    "x = 7\n",
    "\n",
    "pattern_list = []\n",
    "\n",
    "for i in range(16):\n",
    "    x_n = x**i\n",
    "    \n",
    "    amari = x_n%y\n",
    "    pattern_list.append(amari)\n"
   ]
  },
  {
   "cell_type": "code",
   "execution_count": 2,
   "metadata": {},
   "outputs": [
    {
     "data": {
      "text/plain": [
       "[1, 7, 4, 13, 1, 7, 4, 13, 1, 7, 4, 13, 1, 7, 4, 13]"
      ]
     },
     "execution_count": 2,
     "metadata": {},
     "output_type": "execute_result"
    }
   ],
   "source": [
    "#1,7,4,13の繰り返しということがわかる\n",
    "pattern_list"
   ]
  },
  {
   "cell_type": "code",
   "execution_count": 3,
   "metadata": {},
   "outputs": [
    {
     "name": "stdout",
     "output_type": "stream",
     "text": [
      "5.0\n",
      "3.0\n"
     ]
    }
   ],
   "source": [
    "#周期が4とわかった\n",
    "T = 4 \n",
    "\n",
    "z = x**(T/2)\n",
    "\n",
    "#z+1,z-1のとy=15の最大公約数を計算\n",
    "\n",
    "#最大公約数の計算は以下の関数で計算できます。（データ構造とアルゴリズムの勉強をされた方は当たり前だと思いますが）\n",
    "#詳しくはhttp://cocodrips.hateblo.jp/entry/2014/03/05/143623\n",
    "def gcd(a, b):\n",
    "    while b:\n",
    "        a, b = b, a % b\n",
    "    return a\n",
    "\n",
    "#結果を出力\n",
    "print(gcd(z+1,y)) \n",
    "print(gcd(z-1,y)) \n"
   ]
  },
  {
   "cell_type": "code",
   "execution_count": 4,
   "metadata": {},
   "outputs": [
    {
     "name": "stdout",
     "output_type": "stream",
     "text": [
      "got lucky with rand\n"
     ]
    },
    {
     "data": {
      "text/plain": [
       "5"
      ]
     },
     "execution_count": 4,
     "metadata": {},
     "output_type": "execute_result"
    }
   ],
   "source": [
    "#sympyというライブラリを使えば上記の計算を一発で計算してくれる\n",
    "#ただし任意の数（今回はx=7で計算していたが）は、実際このxはうまく行くパターンと、\n",
    "#行かないパターンがあるので素因数分解できるかどうかは確率的に決まる\n",
    "\n",
    "from sympy.physics.quantum.shor import shor\n",
    "shor(15)"
   ]
  },
  {
   "cell_type": "markdown",
   "metadata": {},
   "source": [
    "うまく行けば\n",
    "```\n",
    "got lucky with rand\n",
    "5\n",
    "```\n",
    "と出るので、片方がわかったのでもう片方は素因数したい値で割れば出てくる\n",
    "\n"
   ]
  }
 ],
 "metadata": {
  "kernelspec": {
   "display_name": "Python [conda env:anaconda3-4.1.1]",
   "language": "python",
   "name": "conda-env-anaconda3-4.1.1-py"
  },
  "language_info": {
   "codemirror_mode": {
    "name": "ipython",
    "version": 3
   },
   "file_extension": ".py",
   "mimetype": "text/x-python",
   "name": "python",
   "nbconvert_exporter": "python",
   "pygments_lexer": "ipython3",
   "version": "3.5.4"
  }
 },
 "nbformat": 4,
 "nbformat_minor": 2
}
